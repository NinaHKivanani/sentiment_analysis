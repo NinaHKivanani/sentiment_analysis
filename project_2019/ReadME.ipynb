{
 "cells": [
  {
   "cell_type": "markdown",
   "metadata": {},
   "source": [
    "# Information\n",
    "The Goal of this project was to practice more in the field of sentiment analysis. This is the output of the term project (2018-2019). The idea was to be familiar how to extract the data, especially from dynamics websites, how to prepare data for further analysis, to be familiar with the models and save each output (see `data folder`). For the future study, you can use BERT and compare your result with BERT result to find out which model works better for social media. I saved the output in tsv/csv format and it's appropriate for applying BERT model. \n",
    "  \n",
    "\n",
    "## Folders\n",
    "There are two folders that you need them to follow what I had done: 1) data folder \\& 2) code folder\n",
    "\n",
    "\n",
    "### Data folder\n",
    "The `data folder` consists of the sample of the data used for this study. The data folder was used to extract the data from online websites (for your purpose, you can change the http address and extract the texts from any dynamic website) and to save the output of my models such as plot and tables. \n",
    "\n",
    "\n",
    "### Code folder\n",
    "The `code folder` has four .ipynb:\n",
    "\n",
    "1- Code for extracting the data from an online website--> H_Kivanani_Extract_Text_2019\n",
    "\n",
    "3- Code for Corpus-TextBlob --> H_Kivanani_Corpus_TextBlob_2019\n",
    "\n",
    "4- Code for Corpus- VADER --> H_Kivanani_Corpus_Vader_2019\n",
    "\n",
    "2- Main code for sentiment analysis --> H_Kivanani_Sentiment_2019\n",
    "\n",
    "\n",
    "\n",
    "The basic required dependencies are as follows: \n",
    "\n",
    "- Selenium\n",
    "- sys\n",
    "- nltk\n",
    "- re\n",
    "- string\n",
    "- requests\n",
    "- os\n",
    "- math\n",
    "- random\n",
    "- pandas\n",
    "- numpy\n",
    "- string\n",
    "- matplotlib\n",
    "- seaborn\n",
    "   \n",
    "The version of python that was used: **`Python 3.5`**\n"
   ]
  }
 ],
 "metadata": {
  "kernelspec": {
   "display_name": "Python 3",
   "language": "python",
   "name": "python3"
  },
  "language_info": {
   "codemirror_mode": {
    "name": "ipython",
    "version": 3
   },
   "file_extension": ".py",
   "mimetype": "text/x-python",
   "name": "python",
   "nbconvert_exporter": "python",
   "pygments_lexer": "ipython3",
   "version": "3.6.5"
  }
 },
 "nbformat": 4,
 "nbformat_minor": 2
}
