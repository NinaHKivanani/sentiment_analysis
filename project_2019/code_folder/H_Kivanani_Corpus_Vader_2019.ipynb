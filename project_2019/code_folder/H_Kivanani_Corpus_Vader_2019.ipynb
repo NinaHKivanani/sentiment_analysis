{
 "cells": [
  {
   "cell_type": "markdown",
   "metadata": {},
   "source": [
    "# Sentiment analysis of Youtube product comments (Xiaomi brand)"
   ]
  },
  {
   "cell_type": "markdown",
   "metadata": {},
   "source": [
    "## - VADER for sentiment analysis\n",
    "\n",
    "- The extracted youtube comments saved as all_comment.text format. You can find it in the data_folder. \n",
    "- In this part, I 'm creating a dataset to apply Vader on it\n",
    "- The reason for this sepratation of dataset for TextBlob and VADER is that, for VADER, it's not necessary to change the uppercase to lowercase, becasue it will count it to measure polarity and subjectivity. \n",
    "- Or it consider emojies to analysis the sentiment of text.\n",
    "- It works well on the text from social media. "
   ]
  },
  {
   "cell_type": "markdown",
   "metadata": {},
   "source": [
    "## - Libraries"
   ]
  },
  {
   "cell_type": "code",
   "execution_count": 3,
   "metadata": {},
   "outputs": [
    {
     "name": "stdout",
     "output_type": "stream",
     "text": [
      "[nltk_data] Downloading package punkt to /home/unina/nltk_data...\n",
      "[nltk_data]   Package punkt is already up-to-date!\n",
      "[nltk_data] Downloading package stopwords to /home/unina/nltk_data...\n",
      "[nltk_data]   Package stopwords is already up-to-date!\n",
      "[nltk_data] Downloading package words to /home/unina/nltk_data...\n",
      "[nltk_data]   Package words is already up-to-date!\n",
      "[nltk_data] Downloading package punkt to /home/unina/nltk_data...\n",
      "[nltk_data]   Package punkt is already up-to-date!\n",
      "[nltk_data] Downloading package stopwords to /home/unina/nltk_data...\n",
      "[nltk_data]   Package stopwords is already up-to-date!\n",
      "[nltk_data] Downloading package words to /home/unina/nltk_data...\n",
      "[nltk_data]   Package words is already up-to-date!\n"
     ]
    },
    {
     "data": {
      "text/plain": [
       "'/home/unina/PycharmProjects/Com_txt/Com_txt/code_folder'"
      ]
     },
     "execution_count": 3,
     "metadata": {},
     "output_type": "execute_result"
    }
   ],
   "source": [
    "import nltk, re, os, sys, math, random\n",
    "\n",
    "######\n",
    "nltk.download('punkt')\n",
    "nltk.download('stopwords') \n",
    "nltk.download('words')\n",
    "from nltk.corpus import stopwords\n",
    "from stop_words import get_stop_words\n",
    "from nltk import sent_tokenize, word_tokenize\n",
    "from wordcloud import WordCloud, STOPWORDS\n",
    "nltk.download('punkt')\n",
    "nltk.download('stopwords') \n",
    "nltk.download('words')\n",
    "\n",
    "###### Prevent future/deprecation warnings from showing in output\n",
    "import warnings\n",
    "warnings.filterwarnings(action='ignore')\n",
    "os.getcwd() "
   ]
  },
  {
   "cell_type": "markdown",
   "metadata": {},
   "source": [
    "## - Consideration-VADER: \n",
    "- No need to remove stop words separately. \n",
    "- No need to remove emoji --> :)\n",
    "- No need to change upper case to lower case -->\n",
    "- No need to remove exclamation mark --> \"!\"\n",
    "- No need to remove acronyms -->"
   ]
  },
  {
   "cell_type": "code",
   "execution_count": 7,
   "metadata": {},
   "outputs": [
    {
     "name": "stdout",
     "output_type": "stream",
     "text": [
      "🔥Xiaomi Mi A2 is only $209 right now (limited) - http://click.aliexpress.com/e/cXMSfnnv 🔥\n",
      "When xiaom\n"
     ]
    }
   ],
   "source": [
    "my_corpus_path_v = open(\"/home/unina/PycharmProjects/Com_txt/Com_txt/data_folder/all_comment.text\", \"r\", encoding = \"utf-8-sig\").read()\n",
    "print(my_corpus_path_v[:100])"
   ]
  },
  {
   "cell_type": "code",
   "execution_count": 5,
   "metadata": {},
   "outputs": [
    {
     "name": "stdout",
     "output_type": "stream",
     "text": [
      "🔥Xiaomi Mi A is only $ right now (limited) -  🔥\n",
      "When xiaomi reaches $\n",
      "IPhone cost a soul\n",
      "I think I w\n",
      "🔥Xiaomi Mi A is only $ right now (limited) -  🔥\n",
      "When xiaomi reaches $\n",
      "IPhone cost a soul\n",
      "I think I w\n",
      "['🔥Xiaomi', 'Mi', 'A', 'is', 'only', '', 'right', 'now', '', 'limited', '', '', '🔥', 'When', 'xiaomi', 'reaches', '', 'IPhone', 'cost', 'a', 'soul', 'I', 'think', 'I', 'will', 'be', 'switching', 'to', 'android', 'for', 'my', 'next', 'phone', '.', 'Apple', 'keeps', 'getting', 'more', 'expensive', 'I', 'bought', 'Xiaomi', 'mi', 'a', 'and', 'here', \"'s\", 'my', 'experience', '.', '!', '!', '!', 'Longest', 'comment', 'on', 'youtube', 'ever', '!', '!', '!', 'I', 'bought', '', 'version', 'days', 'ago', '', 'I', 'know', 'it', 'was', \"n't\", 'a', 'long', 'time', 'ago', ',', 'but', 'these', 'are', 'my', 'impressions', '', '.', 'Software', 'is', 'the', 'best', 'thing', 'about', 'this', 'phone', '.', 'It', 'is', 'a', 'part', 'of', 'android']\n",
      "END1\n",
      "\n",
      "hours of screen on time on Android .. Love how he zooms into his beard every time he takes a selfie Not + It 's + megapixel It 's crazy , because the A `` Lite '' version  which is cheaper and supposed to be worse  , has at least points where it 's better than the regular `` A version '' . the A Lite it has a headphone jack vs the A does n't , it has a SD card slot which the A does n't , it has mAh battery which the regular one has  so lasts more  , it has a notch screen vs the regular one 's regular screen  and the Lite with higher resolution too  . I got this as a birthday present today , i already love this < Watching this video on my MI A I have lite version of this phone.. its really Good . Nokia . PPP Plus/X ? Seems pretty similar ... Just bought it . thanks phone ! ! Bro urs channel is out dated bro . All the updates u 'll do is outdated . BRING SO NEW AND BE UPDATED GUYS ITS NOW I really hate Apple for starting the dongle trend + Megapixel ! ! ! Not `` + '' Lew Using MiA But i \n",
      "END2\n",
      "82273\n",
      "\n",
      "m my Mi A Gold version right now . Me and my call it budget . The lite version of it is even better Thanks your video made me by mi a and I am loving device Please , please to an Soul X Pro presentation . Watching this on Mi A the Phone is amazing Every MIGHT BE WATCHING this . I ordered a Mi A Lite and have to say I love all of the . The price point is great as is the device itself . Keep up the good work ! This guy is like Cisco from Flash ... i love it Mine came in last week . Really enjoying this phone so far . Thanks for the it was really helpful . Note pro please . Also compare to f Watching this on my MI A ... Maybe on by Hong . how about with stock ? still in love with my A , this brand is crazy good for its price tag so there are universe now . , marvel , notch and He considering 😰😀 and when he unbox anything it is ' Oxygen OS is the best skin on top of android i ' m with you on stock android ! ! ! sup thanks and love your show on phone but could you please do a review on note please Yeah it ' s amazing . I bought one for my nan and it ' s been so amazing . ANY OTHER FAN .. Lew check out the the new . All their android device are Android ONE some of them are tough fight for the A Just bought one of these today , super , awesome build quality , and buttery smooth , highly recommend this please do a review of Pro M . How about ? Do you have to have one of those ? x for example . Thanks in advance ! From Watching this Mi A bought my Mi A thanks to your video .. thanks again < what do you recon on from ? Anyone know if this phone is compatible with Straight Talk ? I appreciate any . Thanks . It ' s amazing , please buy it . It ' s absolutely great . The rear dual camera is + not a + switch to K that will be something : D Conscious late unknown perfect leap arrive off crowd scholar . Do a on your choice of best budget better camera with more or less same level specs ? try do a video on Note . I might get this phone because its the only one out now that DOES N ' T HAVE A NOTCH Dear Unbox Therapy please do an unbox therapy on mi mix .. It is really good . About the headphone jack problem : let ' s be real , who to music while charging anyways . Watching this on the Mi A RAM Edition 💙 : How do you remove the bar ? How do you the so that they wont have that white background ? i would buy the and install a custom on it does not carry . What is a comparable phone that does ? Thanks my next phone will probably be a , or . try note ai watched this and bought m\n",
      "END3\n",
      "68301\n",
      "<class 'str'>\n"
     ]
    }
   ],
   "source": [
    "######1. Remove http link ######\n",
    "my_v_F = re.sub(r\"(https?:\\/\\/)?([\\da-z\\.-]+)\\.([a-z\\.]{2,6})([\\/\\w\\.-]*)*\\/?\\S\", \"\", my_corpus_path_v)\n",
    "my_v_FF = re.sub(\"[0-9]\", \"\", my_v_F)\n",
    "print(my_v_FF[:100])\n",
    "my_corpus_v_2 = my_v_FF.strip()\n",
    "\n",
    "#print(len(my_corpus_v_2))\n",
    "print(my_corpus_v_2[:100])\n",
    "corpus_word_tokens_v = word_tokenize(my_corpus_v_2)\n",
    "#print(corpus_word_tokens_v[:100])\n",
    "\n",
    "######4. Remove #######\n",
    "list_abb = [\"/\", \"$\", \" \", \"-\", \"(\", \")\"]\n",
    "my_corpus_list_v = [\" \".join([w for w in t.split() if not w in list_abb]) for t in corpus_word_tokens_v]\n",
    "print(my_corpus_list_v[:100])\n",
    "print(\"END1\"+\"\\n\")\n",
    "######5. Join ######\n",
    "my_corpus_join_v=  ' '.join(my_corpus_list_v)\n",
    "print(my_corpus_join_v[7000:8000]+\"\\n\"+\"END2\")\n",
    "print(len(my_corpus_join_v))\n",
    "\n",
    "######6. Remove non English words #######\n",
    "\n",
    "non_english_v = set(nltk.corpus.words.words())\n",
    "\n",
    "my_corpus_clean_v = \" \".join(w for w in nltk.wordpunct_tokenize(my_corpus_join_v) \\\n",
    "         if w.lower() in non_english_v or not w.isalpha())\n",
    "print(\"\\n\"+my_corpus_clean_v[8000:10500]+\"\\n\"+\"END3\")\n",
    "print(len(my_corpus_clean_v))\n",
    "print(type(my_corpus_clean_v))"
   ]
  },
  {
   "cell_type": "code",
   "execution_count": 6,
   "metadata": {},
   "outputs": [],
   "source": [
    "with open(\"/home/unina/PycharmProjects/Com_txt/Com_txt/data_folder/my_corpus_vader.txt\", \"w\", encoding = \"utf-8-sig\") as f:\n",
    "    f.write(my_corpus_clean_v)\n",
    "    \n",
    "##Next--> check two copora with TextBlob & VADER.    "
   ]
  }
 ],
 "metadata": {
  "kernelspec": {
   "display_name": "Python 3",
   "language": "python",
   "name": "python3"
  },
  "language_info": {
   "codemirror_mode": {
    "name": "ipython",
    "version": 3
   },
   "file_extension": ".py",
   "mimetype": "text/x-python",
   "name": "python",
   "nbconvert_exporter": "python",
   "pygments_lexer": "ipython3",
   "version": "3.6.5"
  }
 },
 "nbformat": 4,
 "nbformat_minor": 2
}
