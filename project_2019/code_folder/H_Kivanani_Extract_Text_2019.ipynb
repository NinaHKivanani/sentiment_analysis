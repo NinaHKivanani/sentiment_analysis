{
 "cells": [
  {
   "cell_type": "markdown",
   "metadata": {},
   "source": [
    "# Sentiment analysis of Youtube product comments (Xiaomi brand)\n"
   ]
  },
  {
   "cell_type": "markdown",
   "metadata": {},
   "source": [
    "## - Libraries"
   ]
  },
  {
   "cell_type": "code",
   "execution_count": 1,
   "metadata": {
    "scrolled": true
   },
    },
    {
     "data": {
      "text/plain": [
       "'/home/unina/PycharmProjects/Com_txt/Com_txt/code_folder'"
      ]
     },
     "execution_count": 1,
     "metadata": {},
     "output_type": "execute_result"
    }
   ],
   "source": [
    "import nltk, re, os, sys, string, requests\n",
    "nltk.download('punkt')\n",
    "nltk.download('stopwords') \n",
    "from nltk.corpus import stopwords\n",
    "import pandas as pd\n",
    "import numpy as np\n",
    "import matplotlib.pyplot as plt\n",
    "from bs4 import BeautifulSoup\n",
    "os.getcwd() "
   ]
  },
  {
   "cell_type": "markdown",
   "metadata": {},
   "source": [
    "### - Libraries-extracting data from dynamic websites (YouTube)\n"
   ]
  },
  {
   "cell_type": "code",
   "execution_count": 2,
   "metadata": {},
   "outputs": [
    {
     "data": {
      "text/plain": [
       "'/home/unina/PycharmProjects/Com_txt/Com_txt'"
      ]
     },
     "execution_count": 2,
     "metadata": {},
     "output_type": "execute_result"
    }
   ],
   "source": [
    "import selenium\n",
    "from selenium import webdriver\n",
    "from selenium.webdriver.common.action_chains import ActionChains\n",
    "from selenium.webdriver.common.keys import Keys\n",
    "from selenium.webdriver.support.ui import WebDriverWait # allows to wait for the page to load\n",
    "from selenium.webdriver.common.by import By # search for a things using specific parameters\n",
    "from selenium.webdriver.support import expected_conditions as EC # Specifiy what i am looking for in the page\n",
    "#Helps me to be sure that the webpage loaded compelety\n",
    "from selenium.common.exceptions import TimeoutException"
   ]
  },
  {
   "cell_type": "code",
   "execution_count": 27,
   "metadata": {},
   "outputs": [],
   "source": [
    "##For using Google Chrome\n",
    "#executable_path = \"/home/unina/Downloads/Program/geckodriver\"\n",
    "# This is the path that I saved and downloaded my chrome\n",
    "#create a new instance of google chrome. This will help our program open an url in google chrome. create a driver object to pass my handle around \n",
    "#browser_chrome = webdriver.Chrome(path)\n",
    "#executable_path = \"/home/unina/geckodriver\"\n",
    "#browser_chrome = webdriver.Chrome(path)\n",
    "#browser_chrome.wait = WebDriverWait(browser_chrome, 5)\n",
    "\n",
    "##For using Firefox---------------------------------------\n",
    "browser_firefox = webdriver.Firefox()\n",
    "browser_firefox.wait = WebDriverWait(browser_firefox, 5)\n",
    "\n",
    "##--------------------------------------------------------\n",
    "#profile.set_preference(\"media.volume_scale\", \"0.0\")\n",
    "#browser_firefox.add_argument('--mute-audio')\n"
   ]
  },
  {
   "cell_type": "markdown",
   "metadata": {},
   "source": [
    "## - Working with Firefox\n"
   ]
  },
  {
   "cell_type": "code",
   "execution_count": 28,
   "metadata": {},
   "outputs": [],
   "source": [
    "# Selenium, open a new window with the link that we want to extract the comments. \n",
    "#url = \"https://www.youtube.com/watch?v=WPni755-Krg\"\n",
    "urlmain = \"https://www.youtube.com/watch?v=IMCQ0AyHG2w\"\n",
    "browser_firefox.get(urlmain)\n",
    "browser_firefox.get(urlmain) #navigating to a page with.get\n",
    "browser_firefox.implicitly_wait(10)#timeout for locating and element in the DOM.\n",
    "browser_firefox.maximize_window() # Maximize window\n",
    "#Trick for Youtube, if I don't scroll down then the comments will not appear-> usage of next code"
   ]
  },
  {
   "cell_type": "code",
   "execution_count": 29,
   "metadata": {},
   "outputs": [],
   "source": [
    "time_pause = 2\n",
    "\n",
    "#document.body.scrollHeight which is malfunctioning for pages like YouTube.com which has floating web elements\n",
    "\n",
    "while True:\n",
    "    get_height = browser_firefox.execute_script(\"return document.documentElement.scrollHeight\")  \n",
    "    browser_firefox.execute_script(\"window.scrollTo(0, \" + str(get_height) + \");\")\n",
    "    # Wait to load page\n",
    "    time.sleep(time_pause)\n",
    "    gettwo_height = browser_firefox.execute_script(\"return document.documentElement.scrollHeight\")\n",
    "    if gettwo_height == get_height:\n",
    "        browser_firefox.execute_script(\"window.scrollTo(0, \" + str(get_height) + \");\")\n",
    "        # Wait to load page\n",
    "        time.sleep(time_pause)\n",
    "        gettwo_height = browser_firefox.execute_script(\"return document.documentElement.scrollHeight\")\n",
    "        if gettwo_height == get_height:\n",
    "            break\n",
    "        else:\n",
    "            get_height = gettwo_height \n",
    "            continue\n",
    "        \n",
    "#print(get_height)\n",
    "        "
   ]
  },
  {
   "cell_type": "markdown",
   "metadata": {},
   "source": [
    "## - Saving Youtube comments"
   ]
  },
  {
   "cell_type": "code",
   "execution_count": 30,
   "metadata": {},
   "outputs": [],
   "source": [
    "comment_div = browser_firefox.find_element_by_xpath('//*[@id=\"contents\"]')\n",
    "comments = comment_div.find_elements_by_xpath('//*[@id=\"content-text\"]')\n",
    "comment_ids = []\n",
    "\n",
    "with open(\"/home/unina/PycharmProjects/Com_txt/Com_txt/all_comment.text\", \"w\", encoding=\"utf-8\") as f:\n",
    "    for comment in comments:\n",
    "        comment_ids.append(comment.get_attribute('id'))\n",
    "        f.write(comment.text + \"\\n\")\n",
    "\n",
    "#browser_firefox.close()     "
   ]
  }
 ],
 "metadata": {
  "kernelspec": {
   "display_name": "Python 3",
   "language": "python",
   "name": "python3"
  },
  "language_info": {
   "codemirror_mode": {
    "name": "ipython",
    "version": 3
   },
   "file_extension": ".py",
   "mimetype": "text/x-python",
   "name": "python",
   "nbconvert_exporter": "python",
   "pygments_lexer": "ipython3",
   "version": "3.6.5"
  }
 },
 "nbformat": 4,
 "nbformat_minor": 1
}
